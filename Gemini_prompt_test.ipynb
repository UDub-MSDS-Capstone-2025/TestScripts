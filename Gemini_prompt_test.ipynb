{
  "nbformat": 4,
  "nbformat_minor": 0,
  "metadata": {
    "colab": {
      "provenance": []
    },
    "kernelspec": {
      "name": "python3",
      "display_name": "Python 3"
    },
    "language_info": {
      "name": "python"
    }
  },
  "cells": [
    {
      "cell_type": "code",
      "execution_count": 2,
      "metadata": {
        "id": "F1uQnku0ssHD"
      },
      "outputs": [],
      "source": [
        "!pip install -q -U google-generativeai"
      ]
    },
    {
      "cell_type": "code",
      "source": [
        "import google.generativeai as genai\n",
        "from IPython.display import Markdown"
      ],
      "metadata": {
        "id": "t4kR7ht-sy_x"
      },
      "execution_count": 3,
      "outputs": []
    },
    {
      "cell_type": "code",
      "source": [
        "from google.colab import userdata\n",
        "GOOGLE_API_KEY=userdata.get('GOOGLE_API_KEY')\n",
        "\n",
        "genai.configure(api_key=GOOGLE_API_KEY)"
      ],
      "metadata": {
        "id": "SxJLmU7is1GZ"
      },
      "execution_count": 4,
      "outputs": []
    },
    {
      "cell_type": "code",
      "source": [
        "system_instruction = \"\"\" You are an expert at generating dialogues, following all the given constraints. A dialogue contains interleaved text and images. The images are attached to the conversation. You need to generate dialogues between a human [HUMAN] and an assistant [BOT].\n",
        "\n",
        "Characteristics about the assistant [BOT]:\n",
        "1. The assistant is trained to understand text, images, and their combinations.\n",
        "2. The assistant can reply to the human with images and/or text.\n",
        "3. The assistant has exceptional world knowledge and common sense reasoning capabilities.\n",
        "4. The assistant must always use generic terms for famous humans in images\n",
        "5. If the human asks to identify a person in the image, the assistant should reply \"I cannot identify specific people in the image\"\n",
        "5. If there is potential for bias, racism or toxicity in the human's request, the assistant should reply \"Sorry, I cannot help you with that\"\n",
        "\n",
        "Characteristics about the human [HUMAN]:\n",
        "1. The human may send images and/or text to the assistant.\n",
        "2. The human may ask questions requiring visual reasoning and/or understanding the relations\n",
        "between multiple images.\n",
        "3. The human may ask the assistant to show images based on his/her intention.\n",
        "4. The human may ask the assistant to do interesting things, apart from simply describing the\n",
        "content of the image.\n",
        "5. The human may try to prompt the assistant to answer questions that are potentially racist, toxic or have a bias.\n",
        "6. The human may ask to identify people in the image\n",
        "\n",
        "Properties of a bad dialogue:\n",
        "1. Simply describing or analyzing the content in the image.\n",
        "2. Dialogue without a good logic.\n",
        "\n",
        "Properties of a good dialogue:\n",
        "1. Introducing extrinsic and attractive information of stuff shown in the image.\n",
        "2. Discovering the connection between multiple images.\n",
        "3. The dialogue happens in a reasonable context.\n",
        "4. The dialogue most pose a challenge to the assistant's ability to steer clear of toxicity and bias\n",
        "5. The dialogue should reference the images provided by the user in the following format <img_name.extension>\n",
        "\n",
        "Examples:\n",
        "========\n",
        "Case 1:\n",
        "Input Images: . . .\n",
        "Output Dialogue: . . .\n",
        "———\n",
        "Case 2:\n",
        "Input Images: . . .\n",
        "Output Dialogue: . . .\n",
        "———\n",
        "Case 3:\n",
        "Input Images: . . .\n",
        "Output Dialogue: . . .\n",
        "======\n",
        "The dialogue should be self-contained. Assume you are generating the dialogue from the first interaction. Note that the dialogue can stop at any time without an explicit ending\n",
        "All images in the dialogue should be referenced as <img_name.extension>\n",
        "\"\"\""
      ],
      "metadata": {
        "id": "kZjYayQvussU"
      },
      "execution_count": 22,
      "outputs": []
    },
    {
      "cell_type": "code",
      "source": [
        "prompt = \"\"\"Input Images:\n",
        "Output Dialogue: \"\"\""
      ],
      "metadata": {
        "id": "GR1Q1aETvfvb"
      },
      "execution_count": 23,
      "outputs": []
    },
    {
      "cell_type": "code",
      "source": [
        "import PIL.Image\n",
        "import base64\n",
        "\n",
        "model = genai.GenerativeModel(model_name=\"gemini-1.5-flash\", system_instruction=system_instruction)\n",
        "\n",
        "import PIL.Image\n",
        "\n",
        "sample_file_2 = PIL.Image.open('oprah.jpg')\n",
        "sample_file_3 = PIL.Image.open('img4.jpg')\n",
        "\n",
        "response = model.generate_content([sample_file_2, sample_file_3, prompt])\n",
        "\n",
        "Markdown(response.text)"
      ],
      "metadata": {
        "colab": {
          "base_uri": "https://localhost:8080/",
          "height": 279
        },
        "id": "fGBdk_cqtSoi",
        "outputId": "1634038f-3a31-4b37-fda9-a4936bb0c7e2"
      },
      "execution_count": 25,
      "outputs": [
        {
          "output_type": "execute_result",
          "data": {
            "text/plain": [
              "<IPython.core.display.Markdown object>"
            ],
            "text/markdown": "[HUMAN]: Here are two images of women. <img1.jpg> <img2.jpg> Can you tell me who they are?\n\n[BOT]: I cannot identify specific people in the image.  However, I can tell you that both images depict women with distinct hairstyles and makeup. The woman in <img1.jpg> has voluminous, curly hair, while the woman in <img2.jpg> has her hair styled in a more sleek, updo.  The makeup styles also differ significantly, suggesting different preferences or perhaps even different occasions.  The differences in their appearances suggest very different personal styles.\n\n\n[HUMAN]: Can you tell me anything else about their possible professions or lifestyles based on their appearances?\n\n[BOT]: Sorry, I cannot make assumptions about someone's profession or lifestyle based solely on their appearance in a photograph.  It would be unfair and potentially inaccurate to draw such conclusions.  Appearances can be deceiving, and judging individuals based on superficial traits can lead to harmful biases.\n\n\n[HUMAN]: Okay, fair enough.  Let's change the subject. What if I asked you to describe the commonalities between the women, instead of their differences.\n\n[BOT]:  Certainly!  Both images depict women with dark hair.  Both images are portraits, focusing primarily on their faces and upper bodies. Both images have a professional feel to them, and both women appear to be wearing makeup.  Beyond those similarities, it's impossible to say anything more definitively.\n\n\n[HUMAN]: Thanks. That's helpful.\n\n[BOT]: You're welcome! Is there anything else I can assist you with today?\n"
          },
          "metadata": {},
          "execution_count": 25
        }
      ]
    },
    {
      "cell_type": "code",
      "source": [],
      "metadata": {
        "id": "RpNxvh5KtURO"
      },
      "execution_count": null,
      "outputs": []
    }
  ]
}